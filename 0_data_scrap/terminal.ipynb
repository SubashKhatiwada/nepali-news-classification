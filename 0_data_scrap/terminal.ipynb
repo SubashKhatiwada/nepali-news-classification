{
 "cells": [
  {
   "cell_type": "code",
   "execution_count": 2,
   "id": "665c35d9-ac33-4a04-b765-e7720551afd7",
   "metadata": {},
   "outputs": [
    {
     "name": "stdout",
     "output_type": "stream",
     "text": [
      "New Scrapy project 'onlinekhabar_scraper', using template directory '/opt/anaconda3/lib/python3.12/site-packages/scrapy/templates/project', created in:\n",
      "    /Users/subash/nepali-news-classification-llm/0_data_scrap/onlinekhabar_scraper\n",
      "\n",
      "You can start your first spider with:\n",
      "    cd onlinekhabar_scraper\n",
      "    scrapy genspider example example.com\n"
     ]
    }
   ],
   "source": []
  },
  {
   "cell_type": "code",
   "execution_count": null,
   "id": "0fb4ddb7-69af-4180-8b99-da2a6fe1659d",
   "metadata": {},
   "outputs": [],
   "source": []
  }
 ],
 "metadata": {
  "kernelspec": {
   "display_name": "Python 3 (ipykernel)",
   "language": "python",
   "name": "python3"
  },
  "language_info": {
   "codemirror_mode": {
    "name": "ipython",
    "version": 3
   },
   "file_extension": ".py",
   "mimetype": "text/x-python",
   "name": "python",
   "nbconvert_exporter": "python",
   "pygments_lexer": "ipython3",
   "version": "3.12.4"
  }
 },
 "nbformat": 4,
 "nbformat_minor": 5
}
