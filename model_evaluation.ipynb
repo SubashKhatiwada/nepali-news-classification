{
 "cells": [
  {
   "cell_type": "code",
   "execution_count": 65,
   "id": "9abeb6a3-6d56-4dba-baa9-cfe57a7957c5",
   "metadata": {},
   "outputs": [
    {
     "name": "stdout",
     "output_type": "stream",
     "text": [
      "Number of labels in model configuration: 16\n"
     ]
    }
   ],
   "source": [
    "from transformers import AutoModelForSequenceClassification, AutoTokenizer, Trainer, TrainingArguments\n",
    "from sklearn.metrics import accuracy_score, precision_recall_fscore_support\n",
    "import pandas as pd\n",
    "from datasets import Dataset\n",
    "from transformers import BertTokenizer\n",
    "import torch\n",
    "\n",
    "# Load the model and tokenizer\n",
    "model = AutoModelForSequenceClassification.from_pretrained('./nepali_news_mbert_fine_tuned_model',num_labels=16)\n",
    "tokenizer = BertTokenizer.from_pretrained('bert-base-multilingual-uncased')\n",
    "print(\"Number of labels in model configuration:\", model.config.num_labels)\n"
   ]
  },
  {
   "cell_type": "code",
   "execution_count": 71,
   "id": "16a27c72-ede4-4a70-ad02-d353d79fa160",
   "metadata": {},
   "outputs": [
    {
     "data": {
      "application/vnd.jupyter.widget-view+json": {
       "model_id": "5e9f88536f8e4b93821f30a83a52680b",
       "version_major": 2,
       "version_minor": 0
      },
      "text/plain": [
       "Map:   0%|          | 0/837 [00:00<?, ? examples/s]"
      ]
     },
     "metadata": {},
     "output_type": "display_data"
    },
    {
     "name": "stdout",
     "output_type": "stream",
     "text": [
      "Dataset({\n",
      "    features: ['content', 'label', 'input_ids', 'token_type_ids', 'attention_mask'],\n",
      "    num_rows: 837\n",
      "})\n"
     ]
    },
    {
     "data": {
      "text/html": [
       "\n",
       "    <div>\n",
       "      \n",
       "      <progress value='105' max='105' style='width:300px; height:20px; vertical-align: middle;'></progress>\n",
       "      [105/105 00:36]\n",
       "    </div>\n",
       "    "
      ],
      "text/plain": [
       "<IPython.core.display.HTML object>"
      ]
     },
     "metadata": {},
     "output_type": "display_data"
    },
    {
     "name": "stdout",
     "output_type": "stream",
     "text": [
      "Results per class:\n",
      "Class 0: Precision=0.6400, Recall=0.6957, F1=0.6667\n",
      "Class 1: Precision=0.7778, Recall=0.7850, F1=0.7814\n",
      "Class 2: Precision=0.0000, Recall=0.0000, F1=0.0000\n",
      "Class 3: Precision=0.8000, Recall=0.5714, F1=0.6667\n",
      "Class 4: Precision=0.0000, Recall=0.0000, F1=0.0000\n",
      "Class 5: Precision=0.8163, Recall=0.8333, F1=0.8247\n",
      "Class 6: Precision=0.7738, Recall=0.8125, F1=0.7927\n",
      "Class 7: Precision=0.7273, Recall=0.8889, F1=0.8000\n",
      "Class 8: Precision=0.7534, Recall=0.7746, F1=0.7639\n",
      "Class 9: Precision=0.6400, Recall=0.5926, F1=0.6154\n",
      "Class 10: Precision=0.8664, Recall=0.9511, F1=0.9068\n",
      "Class 11: Precision=0.8235, Recall=0.4667, F1=0.5957\n",
      "Class 12: Precision=0.5000, Recall=0.5714, F1=0.5333\n",
      "Class 13: Precision=0.0000, Recall=0.0000, F1=0.0000\n",
      "Class 14: Precision=0.0000, Recall=0.0000, F1=0.0000\n",
      "Class 15: Precision=0.9259, Recall=0.9091, F1=0.9174\n",
      "\n",
      "Overall results:\n",
      "Weighted Precision: 0.7815\n",
      "Weighted Recall: 0.8029\n",
      "Weighted F1: 0.7892\n",
      "Accuracy: 0.8029\n",
      "\n",
      "Confusion Matrix:\n",
      "[[ 16   2   0   0   0   0   0   1   2   0   1   0   0   0   0   1]\n",
      " [  6  84   0   0   0   9   1   1   1   0   0   0   5   0   0   0]\n",
      " [  0   0   0   0   0   0   4   0   3   0   0   0   0   0   0   0]\n",
      " [  0   3   0   8   0   0   0   0   2   1   0   0   0   0   0   0]\n",
      " [  0   2   0   0   0   0   0   0   0   0   0   0   0   0   0   0]\n",
      " [  1   3   0   0   0  40   0   0   3   0   0   0   1   0   0   0]\n",
      " [  0   6   0   1   0   0  65   0   2   5   0   0   1   0   0   0]\n",
      " [  0   0   0   0   0   0   0   8   0   0   0   0   1   0   0   0]\n",
      " [  1   0   0   0   0   0   1   0 110   0  28   2   0   0   0   0]\n",
      " [  0   1   0   0   0   0   4   0   3  16   0   0   0   0   0   3]\n",
      " [  1   0   0   0   0   0   0   1  10   0 253   1   0   0   0   0]\n",
      " [  0   0   0   0   0   0   1   0   7   0   8  14   0   0   0   0]\n",
      " [  0   4   0   0   0   0   1   0   1   0   0   0   8   0   0   0]\n",
      " [  0   1   0   0   0   0   7   0   2   0   0   0   0   0   0   0]\n",
      " [  0   2   0   1   0   0   0   0   0   0   0   0   0   0   0   0]\n",
      " [  0   0   0   0   0   0   0   0   0   3   2   0   0   0   0  50]]\n"
     ]
    }
   ],
   "source": [
    "import pandas as pd\n",
    "\n",
    "# Load the test data from CSV\n",
    "test_df = pd.read_csv('3_split_data/validation.csv')\n",
    "\n",
    "test_dataset = Dataset.from_pandas(test_df)\n",
    "\n",
    "# Tokenize the data\n",
    "def tokenize_function(examples):\n",
    "    return tokenizer(examples['content'], padding=\"max_length\", truncation=True)\n",
    "\n",
    "test_dataset = test_dataset.map(tokenize_function, batched=True)\n",
    "print(test_dataset)\n",
    "\n",
    "from transformers import Trainer, TrainingArguments\n",
    "from sklearn.metrics import accuracy_score, precision_recall_fscore_support, confusion_matrix\n",
    "import torch\n",
    "import numpy as np\n",
    "\n",
    "def compute_metrics(pred):\n",
    "    predictions, labels = pred\n",
    "    predictions = predictions.argmax(axis=1)  # Get the predicted class for multiclass\n",
    "\n",
    "    # Calculate accuracy\n",
    "    accuracy = accuracy_score(labels, predictions)\n",
    "    \n",
    "    # Calculate precision, recall, and f1 score for each class\n",
    "    precision, recall, f1, _ = precision_recall_fscore_support(labels, predictions, average=None, zero_division=0)\n",
    "    \n",
    "    # Calculate weighted averages\n",
    "    weighted_precision, weighted_recall, weighted_f1, _ = precision_recall_fscore_support(labels, predictions, average='weighted', zero_division=0)\n",
    "    \n",
    "    # Calculate confusion matrix\n",
    "    conf_matrix = confusion_matrix(labels, predictions)\n",
    "    \n",
    "    # Prepare results in a dictionary\n",
    "    metrics = {\n",
    "        'accuracy': accuracy,\n",
    "        'precision_per_class': precision,\n",
    "        'recall_per_class': recall,\n",
    "        'f1_per_class': f1,\n",
    "        'weighted_precision': weighted_precision,\n",
    "        'weighted_recall': weighted_recall,\n",
    "        'weighted_f1': weighted_f1,\n",
    "        'confusion_matrix': conf_matrix\n",
    "    }\n",
    "    \n",
    "    return metrics\n",
    "\n",
    "# Define training arguments for evaluation\n",
    "training_args = TrainingArguments(\n",
    "    output_dir='./results',\n",
    "    per_device_eval_batch_size=8,\n",
    "    eval_strategy=\"no\",\n",
    "    logging_dir='./logs',\n",
    ")\n",
    "\n",
    "# Initialize the Trainer for evaluation\n",
    "trainer = Trainer(\n",
    "    model=model,\n",
    "    args=training_args,\n",
    "    compute_metrics=compute_metrics\n",
    ")\n",
    "\n",
    "# Evaluate the model\n",
    "results = trainer.evaluate(eval_dataset=test_dataset)\n",
    "\n",
    "# Print per-class results\n",
    "print(\"Results per class:\")\n",
    "for i, (precision, recall, f1) in enumerate(zip(results['eval_precision_per_class'], results['eval_recall_per_class'], results['eval_f1_per_class'])):\n",
    "    print(f\"Class {i}: Precision={precision:.4f}, Recall={recall:.4f}, F1={f1:.4f}\")\n",
    "\n",
    "print(\"\\nOverall results:\")\n",
    "print(f\"Weighted Precision: {results['eval_weighted_precision']:.4f}\")\n",
    "print(f\"Weighted Recall: {results['eval_weighted_recall']:.4f}\")\n",
    "print(f\"Weighted F1: {results['eval_weighted_f1']:.4f}\")\n",
    "print(f\"Accuracy: {results['eval_accuracy']:.4f}\")\n",
    "\n",
    "# Print confusion matrix\n",
    "print(\"\\nConfusion Matrix:\")\n",
    "print(results['eval_confusion_matrix'])"
   ]
  }
 ],
 "metadata": {
  "kernelspec": {
   "display_name": "Python 3 (ipykernel)",
   "language": "python",
   "name": "python3"
  },
  "language_info": {
   "codemirror_mode": {
    "name": "ipython",
    "version": 3
   },
   "file_extension": ".py",
   "mimetype": "text/x-python",
   "name": "python",
   "nbconvert_exporter": "python",
   "pygments_lexer": "ipython3",
   "version": "3.12.4"
  }
 },
 "nbformat": 4,
 "nbformat_minor": 5
}
