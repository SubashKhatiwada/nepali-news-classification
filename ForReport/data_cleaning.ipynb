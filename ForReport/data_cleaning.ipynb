{
 "cells": [
  {
   "cell_type": "code",
   "execution_count": 26,
   "id": "63060a9f-1cc3-4c91-9003-95034edcd802",
   "metadata": {},
   "outputs": [],
   "source": [
    "import re\n",
    "import pandas as pd\n",
    "nepali_stopwords = []\n",
    "with open(\"nepali_stopwords.txt\", \"r\", encoding='utf-8', errors='ignore') as file:\n",
    "    nepali_stopwords = [line.strip() for line in file]\n",
    "    \n",
    "stopwords = set(nepali_stopwords)\n",
    "    \n",
    "\n",
    "def preprocess(text):\n",
    "    # Remove English letters, numbers, and special characters\n",
    "\n",
    "\n",
    "    text = re.sub(r'[a-zA-Z0-9!@#$%^&*()_+\\-=\\[\\]{};\\'‘’\\\\:\"|<,./<>?~`।०१२३४५६७८९ऽ—]', '', text)\n",
    "\n",
    "\n",
    "    text = re.sub(r'।', '', text)\n",
    "    text = re.sub(r'\\ufeff', '', text)\n",
    "    text = re.sub(r'\\\\u200d', '', text)\n",
    "    text = text.replace('\\n', ' ')\n",
    "\n",
    "    # Split text into words and remove stopwords\n",
    "    words = text.split()\n",
    "    text = ' '.join(word for word in words if word not in stopwords)\n",
    "\n",
    "    return text\n"
   ]
  },
  {
   "cell_type": "code",
   "execution_count": 30,
   "id": "27537532-e88c-440d-83f9-8a693116780b",
   "metadata": {},
   "outputs": [
    {
     "name": "stdout",
     "output_type": "stream",
     "text": [
      "क्रिकेट च्याम्पियनसीपका रुपन्देहीबाट देव खनालको कप्तानीमा टीम घोषणा गरिएको रुपन्देही क्रिकेट संघका उपाध्यक्ष धीरज अधिकारी क्षेत्री संयोजकत्वको छनोट समितिले खनालको कप्तानीमा खेलाडी छनोट जनाएको\n"
     ]
    }
   ],
   "source": [
    "text = \"T-20 क्रिकेट च्याम्पियनसीपका लागि रुपन्देहीबाट देव खनालको कप्तानीमा टीम घोषणा गरिएको छ। रुपन्देही क्रिकेट संघका उपाध्यक्ष धीरज अधिकारी क्षेत्री संयोजकत्वको छनोट समितिले खनालको कप्तानीमा १४ जना खेलाडी छनोट गरेको जनाएको छ।\"\n",
    "text = preprocess(text)\n",
    "print(text)"
   ]
  },
  {
   "cell_type": "code",
   "execution_count": null,
   "id": "689d4082-79f1-489c-96f7-9494c12c0ff5",
   "metadata": {},
   "outputs": [],
   "source": []
  }
 ],
 "metadata": {
  "kernelspec": {
   "display_name": "Python 3 (ipykernel)",
   "language": "python",
   "name": "python3"
  },
  "language_info": {
   "codemirror_mode": {
    "name": "ipython",
    "version": 3
   },
   "file_extension": ".py",
   "mimetype": "text/x-python",
   "name": "python",
   "nbconvert_exporter": "python",
   "pygments_lexer": "ipython3",
   "version": "3.12.4"
  }
 },
 "nbformat": 4,
 "nbformat_minor": 5
}
